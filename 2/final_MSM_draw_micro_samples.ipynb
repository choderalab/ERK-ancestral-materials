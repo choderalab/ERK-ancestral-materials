{
 "cells": [
  {
   "cell_type": "code",
   "execution_count": 1,
   "metadata": {},
   "outputs": [
    {
     "name": "stderr",
     "output_type": "stream",
     "text": [
      "/anaconda3/lib/python3.6/site-packages/pyemma/__init__.py:130: UserWarning: You are not using the latest release of PyEMMA. Latest is 2.5.5, you have 2.5.2.\n",
      "  .format(latest=latest, current=current), category=UserWarning)\n"
     ]
    }
   ],
   "source": [
    "import numpy as np\n",
    "import pyemma\n",
    "import matplotlib\n",
    "import matplotlib.pyplot as plt\n",
    "from collections import Counter\n",
    "import mdtraj as md"
   ]
  },
  {
   "cell_type": "code",
   "execution_count": 3,
   "metadata": {},
   "outputs": [],
   "source": [
    "dtrajs = np.load('randforest_distall_dtrajs.npy')\n",
    "dtrajs = [np.concatenate(x) for x in dtrajs]"
   ]
  },
  {
   "cell_type": "code",
   "execution_count": 4,
   "metadata": {},
   "outputs": [
    {
     "data": {
      "text/plain": [
       "3999"
      ]
     },
     "execution_count": 4,
     "metadata": {},
     "output_type": "execute_result"
    }
   ],
   "source": [
    "len(dtrajs)"
   ]
  },
  {
   "cell_type": "code",
   "execution_count": null,
   "metadata": {},
   "outputs": [],
   "source": [
    "msm = pyemma.msm.estimate_markov_model(dtrajs[:1000], lag=200)"
   ]
  },
  {
   "cell_type": "code",
   "execution_count": null,
   "metadata": {},
   "outputs": [],
   "source": [
    "np.random.seed(7)\n",
    "samples = []\n",
    "\n",
    "for i in range(len(msm.active_state_indexes)):\n",
    "    sample = msm.active_state_indexes[i][np.random.choice(range(len(msm.active_state_indexes[i])), 25)]\n",
    "    samples.append(sample)   \n",
    "    \n",
    "np.save('randforest_distall_wt_msm_samples', samples)    "
   ]
  },
  {
   "cell_type": "code",
   "execution_count": null,
   "metadata": {},
   "outputs": [],
   "source": [
    "msm = pyemma.msm.estimate_markov_model(dtrajs[1000:1999], lag=200)"
   ]
  },
  {
   "cell_type": "code",
   "execution_count": null,
   "metadata": {},
   "outputs": [],
   "source": [
    "np.random.seed(7)\n",
    "samples = []\n",
    "\n",
    "for i in range(len(msm.active_state_indexes)):\n",
    "    sample = msm.active_state_indexes[i][np.random.choice(range(len(msm.active_state_indexes[i])), 25)]\n",
    "    samples.append(sample)   \n",
    "    \n",
    "np.save('randforest_distall_ins_msm_samples', samples)    "
   ]
  },
  {
   "cell_type": "code",
   "execution_count": 5,
   "metadata": {},
   "outputs": [],
   "source": [
    "msm = pyemma.msm.estimate_markov_model(dtrajs[1999:2999], lag=200)"
   ]
  },
  {
   "cell_type": "code",
   "execution_count": 6,
   "metadata": {},
   "outputs": [],
   "source": [
    "np.random.seed(7)\n",
    "samples = []\n",
    "\n",
    "for i in range(len(msm.active_state_indexes)):\n",
    "    sample = msm.active_state_indexes[i][np.random.choice(range(len(msm.active_state_indexes[i])), 25)]\n",
    "    samples.append(sample)   \n",
    "    \n",
    "np.save('randforest_distall_mut_msm_samples', samples)    "
   ]
  },
  {
   "cell_type": "code",
   "execution_count": 7,
   "metadata": {},
   "outputs": [],
   "source": [
    "msm = pyemma.msm.estimate_markov_model(dtrajs[2999:3999], lag=200)"
   ]
  },
  {
   "cell_type": "code",
   "execution_count": 8,
   "metadata": {},
   "outputs": [],
   "source": [
    "np.random.seed(7)\n",
    "samples = []\n",
    "\n",
    "for i in range(len(msm.active_state_indexes)):\n",
    "    sample = msm.active_state_indexes[i][np.random.choice(range(len(msm.active_state_indexes[i])), 25)]\n",
    "    samples.append(sample)   \n",
    "    \n",
    "np.save('randforest_distall_ins_mut_msm_samples', samples)    "
   ]
  },
  {
   "cell_type": "code",
   "execution_count": null,
   "metadata": {},
   "outputs": [],
   "source": []
  }
 ],
 "metadata": {
  "kernelspec": {
   "display_name": "Python 3",
   "language": "python",
   "name": "python3"
  },
  "language_info": {
   "codemirror_mode": {
    "name": "ipython",
    "version": 3
   },
   "file_extension": ".py",
   "mimetype": "text/x-python",
   "name": "python",
   "nbconvert_exporter": "python",
   "pygments_lexer": "ipython3",
   "version": "3.6.8"
  }
 },
 "nbformat": 4,
 "nbformat_minor": 2
}
