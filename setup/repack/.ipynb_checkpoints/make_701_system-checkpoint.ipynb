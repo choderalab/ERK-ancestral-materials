{
 "cells": [
  {
   "cell_type": "code",
   "execution_count": 2,
   "metadata": {},
   "outputs": [],
   "source": [
    "import simtk.openmm"
   ]
  },
  {
   "cell_type": "code",
   "execution_count": 3,
   "metadata": {},
   "outputs": [],
   "source": [
    "from simtk.openmm import app"
   ]
  },
  {
   "cell_type": "code",
   "execution_count": 13,
   "metadata": {},
   "outputs": [],
   "source": [
    "from simtk import unit"
   ]
  },
  {
   "cell_type": "code",
   "execution_count": 8,
   "metadata": {},
   "outputs": [
    {
     "data": {
      "text/plain": [
       "'7.0'"
      ]
     },
     "execution_count": 8,
     "metadata": {},
     "output_type": "execute_result"
    }
   ],
   "source": [
    "simtk.openmm.__version__"
   ]
  },
  {
   "cell_type": "code",
   "execution_count": 9,
   "metadata": {},
   "outputs": [
    {
     "data": {
      "text/plain": [
       "'/Users/rafalpwiewiora/repos/erk_reconstruction/PDB_files_for_amber_parametrization/repack'"
      ]
     },
     "execution_count": 9,
     "metadata": {},
     "output_type": "execute_result"
    }
   ],
   "source": [
    "pwd"
   ]
  },
  {
   "cell_type": "code",
   "execution_count": 11,
   "metadata": {},
   "outputs": [
    {
     "name": "stdout",
     "output_type": "stream",
     "text": [
      "ff99SBildn.xml               reserialize_openmm631.ipynb\r\n",
      "integrator.xml               state.xml\r\n",
      "make_701_system.ipynb        system.xml\r\n",
      "phosaa10.xml                 tip3p_standard.xml\r\n"
     ]
    }
   ],
   "source": [
    "ls"
   ]
  },
  {
   "cell_type": "code",
   "execution_count": 14,
   "metadata": {},
   "outputs": [],
   "source": [
    "system_xml_filename = 'system.xml'\n",
    "integrator_xml_filename = 'integrator.xml'\n",
    "state_xml_filename = 'state.xml'\n",
    "\n",
    "pdb_filename = 'equilibrated.pdb'\n",
    "\n",
    "water_model = 'tip3p'\n",
    "solvent_padding = 10.0 * unit.angstroms\n",
    "solvent_numAdded = 20959\n",
    "\n",
    "ffxml_filenames = ['ff99SBildn.xml', 'tip3p_standard.xml', 'phosaa10.xml']\n",
    "\n",
    "pressure = 1.0 * unit.atmospheres\n",
    "barostat_period = 50\n",
    "temperature = 300 * unit.kelvin\n",
    "equilibration_collision_rate = 20.0 / unit.picoseconds\n",
    "production_collision_rate = 1.0 / unit.picoseconds\n",
    "timestep = 2.0 * unit.femtoseconds\n",
    "nsteps = 500 # 1 ps\n",
    "niterations = 10000 # 10 ns\n",
    "\n",
    "#minimization_tolerance = 10.0 * unit.kilojoules_per_mole / unit.nanometers\n",
    "#minimization_steps = 20\n",
    "nonbondedMethod = app.PME\n",
    "cutoff = 0.9 * unit.nanometers\n",
    "constraints = app.HBonds\n",
    "rigidWater = True\n",
    "removeCMMotion = False"
   ]
  },
  {
   "cell_type": "code",
   "execution_count": null,
   "metadata": {},
   "outputs": [],
   "source": [
    "pdb = app.PDBFile(pdb_filename)\n",
    "forcefield = app.ForceField(*ffxml_filenames)"
   ]
  },
  {
   "cell_type": "code",
   "execution_count": null,
   "metadata": {},
   "outputs": [],
   "source": [
    "system = forcefield.createSystem(pdb.topology, nonbondedMethod=nonbondedMethod, cutoff=cutoff, constraints=constraints, rigidWater=rigidWater, removeCMMotion=removeCMMotion)\n",
    "\n",
    "# Add a barostat\n",
    "print('Adding barostat...')\n",
    "barostat = openmm.MonteCarloBarostat(pressure, temperature, barostat_period)\n",
    "system.addForce(barostat)"
   ]
  }
 ],
 "metadata": {
  "kernelspec": {
   "display_name": "Python 3",
   "language": "python",
   "name": "python3"
  },
  "language_info": {
   "codemirror_mode": {
    "name": "ipython",
    "version": 3
   },
   "file_extension": ".py",
   "mimetype": "text/x-python",
   "name": "python",
   "nbconvert_exporter": "python",
   "pygments_lexer": "ipython3",
   "version": "3.5.5"
  }
 },
 "nbformat": 4,
 "nbformat_minor": 2
}
